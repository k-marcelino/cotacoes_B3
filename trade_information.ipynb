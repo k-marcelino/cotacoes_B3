{
 "cells": [
  {
   "cell_type": "code",
   "execution_count": 1,
   "metadata": {},
   "outputs": [],
   "source": [
    "#https://www.b3.com.br/pt_br/market-data-e-indices/servicos-de-dados/market-data/consultas/boletim-diario/dados-publicos-de-produtos-listados-e-de-balcao/\n",
    "\n",
    "import pandas as pd\n",
    "import zipfile\n",
    "from io import BytesIO\n",
    "import requests\n"
   ]
  },
  {
   "cell_type": "markdown",
   "metadata": {},
   "source": [
    "#### Muito bom, mas eles só colocam lá pelas 20h, mesmo horário que o INOA, pq será"
   ]
  },
  {
   "cell_type": "code",
   "execution_count": 2,
   "metadata": {},
   "outputs": [],
   "source": [
    "# Função automática do github copilot - veio esse url que me dá o mesmo arquivo que o link na célula de cima, mas de forma direta\n",
    "# https://bvmf.bmfbovespa.com.br/InstDados/SerHist/COTAHIST_A2020.zip\n",
    "# https://bvmf.bmfbovespa.com.br/pt-br/cotacoes-historicas/FormConsultaValida.asp?arq=COTAHIST_A2020.ZIP\n",
    "\n",
    "def get_quotes():\n",
    "    url = 'https://bvmf.bmfbovespa.com.br/InstDados/SerHist/COTAHIST_A2020.zip'\n",
    "    r = requests.get(url)\n",
    "    z = zipfile.ZipFile(BytesIO(r.content))\n",
    "    #z.extractall()\n",
    "    #df = pd.read_csv('COTAHIST_A2020.TXT', sep=';', encoding='latin-1')\n",
    "    return pd.read_csv(z.open(z.namelist()[0]), sep=';', encoding='UTF-8')\n",
    "    #return df"
   ]
  },
  {
   "cell_type": "code",
   "execution_count": 3,
   "metadata": {},
   "outputs": [
    {
     "data": {
      "text/plain": [
       "<Response [200]>"
      ]
     },
     "execution_count": 3,
     "metadata": {},
     "output_type": "execute_result"
    }
   ],
   "source": [
    "url = 'https://bvmf.bmfbovespa.com.br/InstDados/SerHist/COTAHIST_A2020.zip'\n",
    "r = requests.get(url)\n",
    "r"
   ]
  },
  {
   "cell_type": "code",
   "execution_count": 4,
   "metadata": {},
   "outputs": [
    {
     "data": {
      "text/plain": [
       "<zipfile.ZipFile file=<_io.BytesIO object at 0x000002757B519260> mode='r'>"
      ]
     },
     "execution_count": 4,
     "metadata": {},
     "output_type": "execute_result"
    }
   ],
   "source": [
    "z = zipfile.ZipFile(BytesIO(r.content))\n",
    "z"
   ]
  },
  {
   "cell_type": "code",
   "execution_count": 5,
   "metadata": {},
   "outputs": [
    {
     "data": {
      "text/plain": [
       "['COTAHIST_A2020.TXT']"
      ]
     },
     "execution_count": 5,
     "metadata": {},
     "output_type": "execute_result"
    }
   ],
   "source": [
    "nomes = z.namelist()\n",
    "nomes"
   ]
  },
  {
   "cell_type": "code",
   "execution_count": 8,
   "metadata": {},
   "outputs": [
    {
     "data": {
      "text/plain": [
       "<zipfile.ZipExtFile name='COTAHIST_A2020.TXT' mode='r' compress_type=deflate>"
      ]
     },
     "execution_count": 8,
     "metadata": {},
     "output_type": "execute_result"
    }
   ],
   "source": [
    "z.open(z.namelist()[0])"
   ]
  },
  {
   "cell_type": "code",
   "execution_count": 7,
   "metadata": {},
   "outputs": [
    {
     "data": {
      "text/html": [
       "<div>\n",
       "<style scoped>\n",
       "    .dataframe tbody tr th:only-of-type {\n",
       "        vertical-align: middle;\n",
       "    }\n",
       "\n",
       "    .dataframe tbody tr th {\n",
       "        vertical-align: top;\n",
       "    }\n",
       "\n",
       "    .dataframe thead th {\n",
       "        text-align: right;\n",
       "    }\n",
       "</style>\n",
       "<table border=\"1\" class=\"dataframe\">\n",
       "  <thead>\n",
       "    <tr style=\"text-align: right;\">\n",
       "      <th></th>\n",
       "      <th>00COTAHIST.2020BOVESPA 20201230</th>\n",
       "    </tr>\n",
       "  </thead>\n",
       "  <tbody>\n",
       "    <tr>\n",
       "      <th>0</th>\n",
       "      <td>012020010202AALR3       010ALLIAR      ON     ...</td>\n",
       "    </tr>\n",
       "    <tr>\n",
       "      <th>1</th>\n",
       "      <td>012020010202AAPL34      010APPLE       DRN    ...</td>\n",
       "    </tr>\n",
       "    <tr>\n",
       "      <th>2</th>\n",
       "      <td>012020010202ABCB4       010ABC BRASIL  PN  EJ ...</td>\n",
       "    </tr>\n",
       "    <tr>\n",
       "      <th>3</th>\n",
       "      <td>012020010202ABEV3       010AMBEV S/A   ON  EJ ...</td>\n",
       "    </tr>\n",
       "    <tr>\n",
       "      <th>4</th>\n",
       "      <td>012020010202ADHM3       010ADVANCED-DH ON     ...</td>\n",
       "    </tr>\n",
       "    <tr>\n",
       "      <th>...</th>\n",
       "      <td>...</td>\n",
       "    </tr>\n",
       "    <tr>\n",
       "      <th>1251642</th>\n",
       "      <td>012020123082YDUQN330    080YDUQE  FM   ON     ...</td>\n",
       "    </tr>\n",
       "    <tr>\n",
       "      <th>1251643</th>\n",
       "      <td>012020123082YDUQM340    080YDUQE  FM   ON     ...</td>\n",
       "    </tr>\n",
       "    <tr>\n",
       "      <th>1251644</th>\n",
       "      <td>012020123082YDUQN340    080YDUQE  FM   ON     ...</td>\n",
       "    </tr>\n",
       "    <tr>\n",
       "      <th>1251645</th>\n",
       "      <td>012020123082YDUQO330    080YDUQE       ON     ...</td>\n",
       "    </tr>\n",
       "    <tr>\n",
       "      <th>1251646</th>\n",
       "      <td>99COTAHIST.2020BOVESPA 2020123000001251648    ...</td>\n",
       "    </tr>\n",
       "  </tbody>\n",
       "</table>\n",
       "<p>1251647 rows × 1 columns</p>\n",
       "</div>"
      ],
      "text/plain": [
       "        00COTAHIST.2020BOVESPA 20201230                                                                                                                                                                                                                      \n",
       "0        012020010202AALR3       010ALLIAR      ON     ...                                                                                                                                                                                                   \n",
       "1        012020010202AAPL34      010APPLE       DRN    ...                                                                                                                                                                                                   \n",
       "2        012020010202ABCB4       010ABC BRASIL  PN  EJ ...                                                                                                                                                                                                   \n",
       "3        012020010202ABEV3       010AMBEV S/A   ON  EJ ...                                                                                                                                                                                                   \n",
       "4        012020010202ADHM3       010ADVANCED-DH ON     ...                                                                                                                                                                                                   \n",
       "...                                                    ...                                                                                                                                                                                                   \n",
       "1251642  012020123082YDUQN330    080YDUQE  FM   ON     ...                                                                                                                                                                                                   \n",
       "1251643  012020123082YDUQM340    080YDUQE  FM   ON     ...                                                                                                                                                                                                   \n",
       "1251644  012020123082YDUQN340    080YDUQE  FM   ON     ...                                                                                                                                                                                                   \n",
       "1251645  012020123082YDUQO330    080YDUQE       ON     ...                                                                                                                                                                                                   \n",
       "1251646  99COTAHIST.2020BOVESPA 2020123000001251648    ...                                                                                                                                                                                                   \n",
       "\n",
       "[1251647 rows x 1 columns]"
      ]
     },
     "execution_count": 7,
     "metadata": {},
     "output_type": "execute_result"
    }
   ],
   "source": [
    "h = pd.read_csv(z.open(z.namelist()[0]), sep=';', encoding='UTF-8')\n",
    "h"
   ]
  },
  {
   "cell_type": "markdown",
   "metadata": {},
   "source": [
    "#### Lendo do arquivo baixado"
   ]
  },
  {
   "cell_type": "code",
   "execution_count": 9,
   "metadata": {},
   "outputs": [
    {
     "data": {
      "text/html": [
       "<div>\n",
       "<style scoped>\n",
       "    .dataframe tbody tr th:only-of-type {\n",
       "        vertical-align: middle;\n",
       "    }\n",
       "\n",
       "    .dataframe tbody tr th {\n",
       "        vertical-align: top;\n",
       "    }\n",
       "\n",
       "    .dataframe thead th {\n",
       "        text-align: right;\n",
       "    }\n",
       "</style>\n",
       "<table border=\"1\" class=\"dataframe\">\n",
       "  <thead>\n",
       "    <tr style=\"text-align: right;\">\n",
       "      <th></th>\n",
       "      <th>RptDt</th>\n",
       "      <th>TckrSymb</th>\n",
       "      <th>ISIN</th>\n",
       "      <th>SgmtNm</th>\n",
       "      <th>MinPric</th>\n",
       "      <th>MaxPric</th>\n",
       "      <th>TradAvrgPric</th>\n",
       "      <th>LastPric</th>\n",
       "      <th>AdjstdQt</th>\n",
       "      <th>AdjstdQtTax</th>\n",
       "      <th>RefPric</th>\n",
       "      <th>TradQty</th>\n",
       "      <th>FinInstrmQty</th>\n",
       "    </tr>\n",
       "  </thead>\n",
       "  <tbody>\n",
       "    <tr>\n",
       "      <th>0</th>\n",
       "      <td>2022-09-23</td>\n",
       "      <td>ABEVOV22</td>\n",
       "      <td>BRABEV300002</td>\n",
       "      <td>FINANCIAL</td>\n",
       "      <td>15,36</td>\n",
       "      <td>15,52</td>\n",
       "      <td>15,42</td>\n",
       "      <td>15,52</td>\n",
       "      <td>15,52</td>\n",
       "      <td>NaN</td>\n",
       "      <td>NaN</td>\n",
       "      <td>9.0</td>\n",
       "      <td>3100.0</td>\n",
       "    </tr>\n",
       "    <tr>\n",
       "      <th>1</th>\n",
       "      <td>2022-09-23</td>\n",
       "      <td>ABEVOX22</td>\n",
       "      <td>BRABEV3Y0009</td>\n",
       "      <td>FINANCIAL</td>\n",
       "      <td>15,56</td>\n",
       "      <td>15,68</td>\n",
       "      <td>15,62</td>\n",
       "      <td>15,68</td>\n",
       "      <td>15,66</td>\n",
       "      <td>NaN</td>\n",
       "      <td>NaN</td>\n",
       "      <td>2.0</td>\n",
       "      <td>1000.0</td>\n",
       "    </tr>\n",
       "    <tr>\n",
       "      <th>2</th>\n",
       "      <td>2022-09-23</td>\n",
       "      <td>AFSF23</td>\n",
       "      <td>BRBMEFAFS1C6</td>\n",
       "      <td>FINANCIAL</td>\n",
       "      <td>NaN</td>\n",
       "      <td>NaN</td>\n",
       "      <td>NaN</td>\n",
       "      <td>NaN</td>\n",
       "      <td>18133,3</td>\n",
       "      <td>NaN</td>\n",
       "      <td>NaN</td>\n",
       "      <td>NaN</td>\n",
       "      <td>NaN</td>\n",
       "    </tr>\n",
       "    <tr>\n",
       "      <th>3</th>\n",
       "      <td>2022-09-23</td>\n",
       "      <td>AFSG23</td>\n",
       "      <td>BRBMEFAFS1D4</td>\n",
       "      <td>FINANCIAL</td>\n",
       "      <td>NaN</td>\n",
       "      <td>NaN</td>\n",
       "      <td>NaN</td>\n",
       "      <td>NaN</td>\n",
       "      <td>18182,2</td>\n",
       "      <td>NaN</td>\n",
       "      <td>NaN</td>\n",
       "      <td>NaN</td>\n",
       "      <td>NaN</td>\n",
       "    </tr>\n",
       "    <tr>\n",
       "      <th>4</th>\n",
       "      <td>2022-09-23</td>\n",
       "      <td>AFSV22</td>\n",
       "      <td>BRBMEFAFS198</td>\n",
       "      <td>FINANCIAL</td>\n",
       "      <td>17827</td>\n",
       "      <td>17973</td>\n",
       "      <td>17917,89</td>\n",
       "      <td>17950</td>\n",
       "      <td>17989,2</td>\n",
       "      <td>NaN</td>\n",
       "      <td>NaN</td>\n",
       "      <td>19.0</td>\n",
       "      <td>68.0</td>\n",
       "    </tr>\n",
       "    <tr>\n",
       "      <th>...</th>\n",
       "      <td>...</td>\n",
       "      <td>...</td>\n",
       "      <td>...</td>\n",
       "      <td>...</td>\n",
       "      <td>...</td>\n",
       "      <td>...</td>\n",
       "      <td>...</td>\n",
       "      <td>...</td>\n",
       "      <td>...</td>\n",
       "      <td>...</td>\n",
       "      <td>...</td>\n",
       "      <td>...</td>\n",
       "      <td>...</td>\n",
       "    </tr>\n",
       "    <tr>\n",
       "      <th>39921</th>\n",
       "      <td>2022-09-23</td>\n",
       "      <td>YDUQX210</td>\n",
       "      <td>BRYDUQ3X03G0</td>\n",
       "      <td>EQUITY PUT</td>\n",
       "      <td>NaN</td>\n",
       "      <td>NaN</td>\n",
       "      <td>NaN</td>\n",
       "      <td>NaN</td>\n",
       "      <td>NaN</td>\n",
       "      <td>NaN</td>\n",
       "      <td>6,92</td>\n",
       "      <td>NaN</td>\n",
       "      <td>NaN</td>\n",
       "    </tr>\n",
       "    <tr>\n",
       "      <th>39922</th>\n",
       "      <td>2022-09-23</td>\n",
       "      <td>YDUQX220</td>\n",
       "      <td>BRYDUQ3X03H8</td>\n",
       "      <td>EQUITY PUT</td>\n",
       "      <td>NaN</td>\n",
       "      <td>NaN</td>\n",
       "      <td>NaN</td>\n",
       "      <td>NaN</td>\n",
       "      <td>NaN</td>\n",
       "      <td>NaN</td>\n",
       "      <td>7,83</td>\n",
       "      <td>NaN</td>\n",
       "      <td>NaN</td>\n",
       "    </tr>\n",
       "    <tr>\n",
       "      <th>39923</th>\n",
       "      <td>2022-09-23</td>\n",
       "      <td>YDUQX230</td>\n",
       "      <td>BRYDUQ3X03K2</td>\n",
       "      <td>EQUITY PUT</td>\n",
       "      <td>NaN</td>\n",
       "      <td>NaN</td>\n",
       "      <td>NaN</td>\n",
       "      <td>NaN</td>\n",
       "      <td>NaN</td>\n",
       "      <td>NaN</td>\n",
       "      <td>8,76</td>\n",
       "      <td>NaN</td>\n",
       "      <td>NaN</td>\n",
       "    </tr>\n",
       "    <tr>\n",
       "      <th>39924</th>\n",
       "      <td>2022-09-23</td>\n",
       "      <td>YDUQX240</td>\n",
       "      <td>BRYDUQ3X03F2</td>\n",
       "      <td>EQUITY PUT</td>\n",
       "      <td>NaN</td>\n",
       "      <td>NaN</td>\n",
       "      <td>NaN</td>\n",
       "      <td>NaN</td>\n",
       "      <td>NaN</td>\n",
       "      <td>NaN</td>\n",
       "      <td>9,7</td>\n",
       "      <td>NaN</td>\n",
       "      <td>NaN</td>\n",
       "    </tr>\n",
       "    <tr>\n",
       "      <th>39925</th>\n",
       "      <td>2022-09-23</td>\n",
       "      <td>YDUQX250</td>\n",
       "      <td>BRYDUQ3X03I6</td>\n",
       "      <td>EQUITY PUT</td>\n",
       "      <td>NaN</td>\n",
       "      <td>NaN</td>\n",
       "      <td>NaN</td>\n",
       "      <td>NaN</td>\n",
       "      <td>NaN</td>\n",
       "      <td>NaN</td>\n",
       "      <td>10,65</td>\n",
       "      <td>NaN</td>\n",
       "      <td>NaN</td>\n",
       "    </tr>\n",
       "  </tbody>\n",
       "</table>\n",
       "<p>39926 rows × 13 columns</p>\n",
       "</div>"
      ],
      "text/plain": [
       "            RptDt  TckrSymb          ISIN      SgmtNm MinPric MaxPric  \\\n",
       "0      2022-09-23  ABEVOV22  BRABEV300002   FINANCIAL   15,36   15,52   \n",
       "1      2022-09-23  ABEVOX22  BRABEV3Y0009   FINANCIAL   15,56   15,68   \n",
       "2      2022-09-23    AFSF23  BRBMEFAFS1C6   FINANCIAL     NaN     NaN   \n",
       "3      2022-09-23    AFSG23  BRBMEFAFS1D4   FINANCIAL     NaN     NaN   \n",
       "4      2022-09-23    AFSV22  BRBMEFAFS198   FINANCIAL   17827   17973   \n",
       "...           ...       ...           ...         ...     ...     ...   \n",
       "39921  2022-09-23  YDUQX210  BRYDUQ3X03G0  EQUITY PUT     NaN     NaN   \n",
       "39922  2022-09-23  YDUQX220  BRYDUQ3X03H8  EQUITY PUT     NaN     NaN   \n",
       "39923  2022-09-23  YDUQX230  BRYDUQ3X03K2  EQUITY PUT     NaN     NaN   \n",
       "39924  2022-09-23  YDUQX240  BRYDUQ3X03F2  EQUITY PUT     NaN     NaN   \n",
       "39925  2022-09-23  YDUQX250  BRYDUQ3X03I6  EQUITY PUT     NaN     NaN   \n",
       "\n",
       "      TradAvrgPric LastPric AdjstdQt AdjstdQtTax RefPric  TradQty  \\\n",
       "0            15,42    15,52    15,52         NaN     NaN      9.0   \n",
       "1            15,62    15,68    15,66         NaN     NaN      2.0   \n",
       "2              NaN      NaN  18133,3         NaN     NaN      NaN   \n",
       "3              NaN      NaN  18182,2         NaN     NaN      NaN   \n",
       "4         17917,89    17950  17989,2         NaN     NaN     19.0   \n",
       "...            ...      ...      ...         ...     ...      ...   \n",
       "39921          NaN      NaN      NaN         NaN    6,92      NaN   \n",
       "39922          NaN      NaN      NaN         NaN    7,83      NaN   \n",
       "39923          NaN      NaN      NaN         NaN    8,76      NaN   \n",
       "39924          NaN      NaN      NaN         NaN     9,7      NaN   \n",
       "39925          NaN      NaN      NaN         NaN   10,65      NaN   \n",
       "\n",
       "       FinInstrmQty  \n",
       "0            3100.0  \n",
       "1            1000.0  \n",
       "2               NaN  \n",
       "3               NaN  \n",
       "4              68.0  \n",
       "...             ...  \n",
       "39921           NaN  \n",
       "39922           NaN  \n",
       "39923           NaN  \n",
       "39924           NaN  \n",
       "39925           NaN  \n",
       "\n",
       "[39926 rows x 13 columns]"
      ]
     },
     "execution_count": 9,
     "metadata": {},
     "output_type": "execute_result"
    }
   ],
   "source": [
    "teste = pd.read_csv('TradeInformationConsolidatedFile_20220923_1.csv', sep=';', encoding='latin-1')\n",
    "teste"
   ]
  },
  {
   "cell_type": "code",
   "execution_count": 10,
   "metadata": {},
   "outputs": [
    {
     "data": {
      "text/html": [
       "<div>\n",
       "<style scoped>\n",
       "    .dataframe tbody tr th:only-of-type {\n",
       "        vertical-align: middle;\n",
       "    }\n",
       "\n",
       "    .dataframe tbody tr th {\n",
       "        vertical-align: top;\n",
       "    }\n",
       "\n",
       "    .dataframe thead th {\n",
       "        text-align: right;\n",
       "    }\n",
       "</style>\n",
       "<table border=\"1\" class=\"dataframe\">\n",
       "  <thead>\n",
       "    <tr style=\"text-align: right;\">\n",
       "      <th></th>\n",
       "      <th>RptDt</th>\n",
       "      <th>TckrSymb</th>\n",
       "      <th>ISIN</th>\n",
       "      <th>SgmtNm</th>\n",
       "      <th>MinPric</th>\n",
       "      <th>MaxPric</th>\n",
       "      <th>TradAvrgPric</th>\n",
       "      <th>LastPric</th>\n",
       "      <th>AdjstdQt</th>\n",
       "      <th>AdjstdQtTax</th>\n",
       "      <th>RefPric</th>\n",
       "      <th>TradQty</th>\n",
       "      <th>FinInstrmQty</th>\n",
       "    </tr>\n",
       "  </thead>\n",
       "  <tbody>\n",
       "    <tr>\n",
       "      <th>1776</th>\n",
       "      <td>2022-09-23</td>\n",
       "      <td>PETR4</td>\n",
       "      <td>BRPETRACNPR6</td>\n",
       "      <td>CASH</td>\n",
       "      <td>29,77</td>\n",
       "      <td>31,39</td>\n",
       "      <td>30,23</td>\n",
       "      <td>29,94</td>\n",
       "      <td>NaN</td>\n",
       "      <td>NaN</td>\n",
       "      <td>NaN</td>\n",
       "      <td>165709.0</td>\n",
       "      <td>138630800.0</td>\n",
       "    </tr>\n",
       "  </tbody>\n",
       "</table>\n",
       "</div>"
      ],
      "text/plain": [
       "           RptDt TckrSymb          ISIN SgmtNm MinPric MaxPric TradAvrgPric  \\\n",
       "1776  2022-09-23    PETR4  BRPETRACNPR6   CASH   29,77   31,39        30,23   \n",
       "\n",
       "     LastPric AdjstdQt AdjstdQtTax RefPric   TradQty  FinInstrmQty  \n",
       "1776    29,94      NaN         NaN     NaN  165709.0   138630800.0  "
      ]
     },
     "execution_count": 10,
     "metadata": {},
     "output_type": "execute_result"
    }
   ],
   "source": [
    "teste[teste['TckrSymb'] == 'PETR4']"
   ]
  },
  {
   "cell_type": "markdown",
   "metadata": {},
   "source": [
    "#### Inspecionei a página:\n",
    "https://www.b3.com.br/pt_br/market-data-e-indices/servicos-de-dados/market-data/consultas/boletim-diario/dados-publicos-de-produtos-listados-e-de-balcao/\n",
    "\n",
    "e achei esse link: com o get\n",
    "\n",
    "talvez usar o wget que uso na ans para baixar o arquivo"
   ]
  },
  {
   "cell_type": "code",
   "execution_count": 14,
   "metadata": {},
   "outputs": [
    {
     "data": {
      "text/plain": [
       "<Response [200]>"
      ]
     },
     "execution_count": 14,
     "metadata": {},
     "output_type": "execute_result"
    }
   ],
   "source": [
    "url = 'https://arquivos.b3.com.br/api/download/requestname?fileName=TradeInformationConsolidated&date=2022-09-23&fileType=csv'\n",
    "\n",
    "r = requests.get(url, allow_redirects=True)\n",
    "r\n",
    "\n"
   ]
  },
  {
   "cell_type": "code",
   "execution_count": 15,
   "metadata": {},
   "outputs": [
    {
     "data": {
      "text/html": [
       "<div>\n",
       "<style scoped>\n",
       "    .dataframe tbody tr th:only-of-type {\n",
       "        vertical-align: middle;\n",
       "    }\n",
       "\n",
       "    .dataframe tbody tr th {\n",
       "        vertical-align: top;\n",
       "    }\n",
       "\n",
       "    .dataframe thead th {\n",
       "        text-align: right;\n",
       "    }\n",
       "</style>\n",
       "<table border=\"1\" class=\"dataframe\">\n",
       "  <thead>\n",
       "    <tr style=\"text-align: right;\">\n",
       "      <th></th>\n",
       "      <th>{\"redirectUrl\":\"~/download?token=L0E1QzBXMVdiQWtXSmUyVjdaVUNIdz09WCtFbFV1bThjb0dvYlpsWEk2cCt3VzJzTVpVRzFueGQrQ1NTWndreDBFZUJINStNYXR4dTk2OG9DZjFKdkY1S1ZuSzlwbmE2SjZpT3lVSjhWbjRNTzhPNXRxbzdJVU55TG9uZjZtdStLUWtDSjR2SCtsWWFtUy9hd1JiRDVwNjZqZ2Rud0tySFhBNDlycFNpUkQrZnA0QXd5d0Jqa3pYZWVXSTlPcUJmZWN3eGxBdlVXMXY4RXBad1g1eU81NUVSSW1qTHQ4cmRpUXc3bFczaGxiWSs3WWRRNGpnMEQ0K3FKeG93ZUNzMHBOdlVnRlhweWpRYUVHcFE0QXhWRnM2STdwaUVNN0RUTjZVamdzdGxyZzJsd0E9PQ\",\"token\":\"L0E1QzBXMVdiQWtXSmUyVjdaVUNIdz09WCtFbFV1bThjb0dvYlpsWEk2cCt3VzJzTVpVRzFueGQrQ1NTWndreDBFZUJINStNYXR4dTk2OG9DZjFKdkY1S1ZuSzlwbmE2SjZpT3lVSjhWbjRNTzhPNXRxbzdJVU55TG9uZjZtdStLUWtDSjR2SCtsWWFtUy9hd1JiRDVwNjZqZ2Rud0tySFhBNDlycFNpUkQrZnA0QXd5d0Jqa3pYZWVXSTlPcUJmZWN3eGxBdlVXMXY4RXBad1g1eU81NUVSSW1qTHQ4cmRpUXc3bFczaGxiWSs3WWRRNGpnMEQ0K3FKeG93ZUNzMHBOdlVnRlhweWpRYUVHcFE0QXhWRnM2STdwaUVNN0RUTjZVamdzdGxyZzJsd0E9PQ\",\"file\":{\"name\":\"TradeInformationConsolidatedFile_20220923_1\",\"extension\":\".csv\"}}</th>\n",
       "    </tr>\n",
       "  </thead>\n",
       "  <tbody>\n",
       "  </tbody>\n",
       "</table>\n",
       "</div>"
      ],
      "text/plain": [
       "Empty DataFrame\n",
       "Columns: [{\"redirectUrl\":\"~/download?token=L0E1QzBXMVdiQWtXSmUyVjdaVUNIdz09WCtFbFV1bThjb0dvYlpsWEk2cCt3VzJzTVpVRzFueGQrQ1NTWndreDBFZUJINStNYXR4dTk2OG9DZjFKdkY1S1ZuSzlwbmE2SjZpT3lVSjhWbjRNTzhPNXRxbzdJVU55TG9uZjZtdStLUWtDSjR2SCtsWWFtUy9hd1JiRDVwNjZqZ2Rud0tySFhBNDlycFNpUkQrZnA0QXd5d0Jqa3pYZWVXSTlPcUJmZWN3eGxBdlVXMXY4RXBad1g1eU81NUVSSW1qTHQ4cmRpUXc3bFczaGxiWSs3WWRRNGpnMEQ0K3FKeG93ZUNzMHBOdlVnRlhweWpRYUVHcFE0QXhWRnM2STdwaUVNN0RUTjZVamdzdGxyZzJsd0E9PQ\",\"token\":\"L0E1QzBXMVdiQWtXSmUyVjdaVUNIdz09WCtFbFV1bThjb0dvYlpsWEk2cCt3VzJzTVpVRzFueGQrQ1NTWndreDBFZUJINStNYXR4dTk2OG9DZjFKdkY1S1ZuSzlwbmE2SjZpT3lVSjhWbjRNTzhPNXRxbzdJVU55TG9uZjZtdStLUWtDSjR2SCtsWWFtUy9hd1JiRDVwNjZqZ2Rud0tySFhBNDlycFNpUkQrZnA0QXd5d0Jqa3pYZWVXSTlPcUJmZWN3eGxBdlVXMXY4RXBad1g1eU81NUVSSW1qTHQ4cmRpUXc3bFczaGxiWSs3WWRRNGpnMEQ0K3FKeG93ZUNzMHBOdlVnRlhweWpRYUVHcFE0QXhWRnM2STdwaUVNN0RUTjZVamdzdGxyZzJsd0E9PQ\",\"file\":{\"name\":\"TradeInformationConsolidatedFile_20220923_1\",\"extension\":\".csv\"}}]\n",
       "Index: []"
      ]
     },
     "execution_count": 15,
     "metadata": {},
     "output_type": "execute_result"
    }
   ],
   "source": [
    "pd.read_csv(BytesIO(r.content), sep=';', encoding='latin-1')"
   ]
  },
  {
   "cell_type": "code",
   "execution_count": null,
   "metadata": {},
   "outputs": [],
   "source": [
    "tentar baixar usando o wget"
   ]
  },
  {
   "attachments": {
    "Consultas.png": {
     "image/png": "[encoded data removed]"
    }
   },
   "cell_type": "markdown",
   "metadata": {},
   "source": [
    "![Consultas.png](attachment:Consultas.png)"
   ]
  }
 ],
 "metadata": {
  "kernelspec": {
   "display_name": "Python 3 (ipykernel)",
   "language": "python",
   "name": "python3"
  },
  "language_info": {
   "codemirror_mode": {
    "name": "ipython",
    "version": 3
   },
   "file_extension": ".py",
   "mimetype": "text/x-python",
   "name": "python",
   "nbconvert_exporter": "python",
   "pygments_lexer": "ipython3",
   "version": "3.9.12"
  },
  "vscode": {
   "interpreter": {
    "hash": "a289efcc8cdaddc677488112ca48e5ab9c82fb738b15b56b6e2d579b8cc30a69"
   }
  }
 },
 "nbformat": 4,
 "nbformat_minor": 2
}
