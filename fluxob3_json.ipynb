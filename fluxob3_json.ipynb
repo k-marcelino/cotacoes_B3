{
 "cells": [
  {
   "cell_type": "code",
   "execution_count": 1,
   "metadata": {},
   "outputs": [],
   "source": [
    "import pandas as pd\n",
    "import zipfile\n",
    "from io import BytesIO\n",
    "import requests\n",
    "import json\n"
   ]
  },
  {
   "cell_type": "code",
   "execution_count": null,
   "metadata": {},
   "outputs": [],
   "source": [
    "# Lendo direto assim não rolou\n",
    "json = pd.read_json('https://sistemaswebb3-listados.b3.com.br/investorParticipationProxy/investorParticipationCall/GetOpendaily/eyJwYWdlU2l6ZSI6MjAsImlkZW50aWZpZXIiOm51bGwsImxhbmd1YWdlIjoicHQtYnIifQ==')\n",
    "json"
   ]
  },
  {
   "cell_type": "code",
   "execution_count": 2,
   "metadata": {},
   "outputs": [
    {
     "data": {
      "text/plain": [
       "<Response [200]>"
      ]
     },
     "execution_count": 2,
     "metadata": {},
     "output_type": "execute_result"
    }
   ],
   "source": [
    "# Url pega no inspecionando o elemento e networdk > tinha um get que o Doug achou e era esse url\n",
    "url = 'https://sistemaswebb3-listados.b3.com.br/investorParticipationProxy/investorParticipationCall/GetOpendaily/eyJwYWdlU2l6ZSI6MjAsImlkZW50aWZpZXIiOm51bGwsImxhbmd1YWdlIjoicHQtYnIifQ=='\n",
    "\n",
    "r = requests.get(url)\n",
    "r"
   ]
  },
  {
   "cell_type": "code",
   "execution_count": 3,
   "metadata": {},
   "outputs": [
    {
     "data": {
      "text/plain": [
       "b'{\"HeaderDates\":{\"StartDate\":\"2022-09-01T00:00:00\",\"EndDate\":\"2022-09-22T00:00:00\",\"UpdateDate\":\"0001-01-01T00:00:00\"},\"HeaderDaily\":{\"TypeInvestorTitle\":\"Tipo de Investidores\",\"BuyVolumeTitle\":\"Vol_Compra_R$ MIL\",\"BuyParticipationTitle\":\"Part_Compra (%)\",\"SaleVolumeTitle\":\"Vol_Venda_R$ MIL\",\"SaleParticipationTitle\":\"Part_Venda (%)\"},\"Result\":[{\"TypeInvestor\":\"Investidores Individuais\",\"BuyVolume\":\"64.962.887\",\"BuyParticipation\":\"7,47%\",\"SaleVolume\":\"63.999.172\",\"SaleParticipation\":\"7,36%\"},{\"TypeInvestor\":\"Institucionais\",\"BuyVolume\":\"107.690.834\",\"BuyParticipation\":\"12,39%\",\"SaleVolume\":\"111.074.808\",\"SaleParticipation\":\"12,78%\"},{\"TypeInvestor\":\"Investidor Estrangeiro\",\"BuyVolume\":\"242.099.653\",\"BuyParticipation\":\"27,85%\",\"SaleVolume\":\"243.068.194\",\"SaleParticipation\":\"27,96%\"},{\"TypeInvestor\":\"Institui\\xc3\\xa7\\xc3\\xb5es Financeiras\",\"BuyVolume\":\"14.399.644\",\"BuyParticipation\":\"1,66%\",\"SaleVolume\":\"14.333.854\",\"SaleParticipation\":\"1,65%\"},{\"TypeInvestor\":\"Outros\",\"BuyVolume\":\"5.519.914\",\"BuyParticipation\":\"0,63%\",\"SaleVolume\":\"2.196.906\",\"SaleParticipation\":\"0,25%\"}]}'"
      ]
     },
     "execution_count": 3,
     "metadata": {},
     "output_type": "execute_result"
    }
   ],
   "source": [
    "# Opa, deu bom\n",
    "r.content"
   ]
  },
  {
   "cell_type": "markdown",
   "metadata": {},
   "source": [
    "##### Convertendo o json em pandasdataframe"
   ]
  },
  {
   "cell_type": "code",
   "execution_count": 8,
   "metadata": {},
   "outputs": [
    {
     "data": {
      "text/html": [
       "<div>\n",
       "<style scoped>\n",
       "    .dataframe tbody tr th:only-of-type {\n",
       "        vertical-align: middle;\n",
       "    }\n",
       "\n",
       "    .dataframe tbody tr th {\n",
       "        vertical-align: top;\n",
       "    }\n",
       "\n",
       "    .dataframe thead th {\n",
       "        text-align: right;\n",
       "    }\n",
       "</style>\n",
       "<table border=\"1\" class=\"dataframe\">\n",
       "  <thead>\n",
       "    <tr style=\"text-align: right;\">\n",
       "      <th></th>\n",
       "      <th>Result</th>\n",
       "      <th>HeaderDates.StartDate</th>\n",
       "      <th>HeaderDates.EndDate</th>\n",
       "      <th>HeaderDates.UpdateDate</th>\n",
       "      <th>HeaderDaily.TypeInvestorTitle</th>\n",
       "      <th>HeaderDaily.BuyVolumeTitle</th>\n",
       "      <th>HeaderDaily.BuyParticipationTitle</th>\n",
       "      <th>HeaderDaily.SaleVolumeTitle</th>\n",
       "      <th>HeaderDaily.SaleParticipationTitle</th>\n",
       "    </tr>\n",
       "  </thead>\n",
       "  <tbody>\n",
       "    <tr>\n",
       "      <th>0</th>\n",
       "      <td>[{'TypeInvestor': 'Investidores Individuais', ...</td>\n",
       "      <td>2022-09-01T00:00:00</td>\n",
       "      <td>2022-09-22T00:00:00</td>\n",
       "      <td>0001-01-01T00:00:00</td>\n",
       "      <td>Tipo de Investidores</td>\n",
       "      <td>Vol_Compra_R$ MIL</td>\n",
       "      <td>Part_Compra (%)</td>\n",
       "      <td>Vol_Venda_R$ MIL</td>\n",
       "      <td>Part_Venda (%)</td>\n",
       "    </tr>\n",
       "  </tbody>\n",
       "</table>\n",
       "</div>"
      ],
      "text/plain": [
       "                                              Result HeaderDates.StartDate  \\\n",
       "0  [{'TypeInvestor': 'Investidores Individuais', ...   2022-09-01T00:00:00   \n",
       "\n",
       "   HeaderDates.EndDate HeaderDates.UpdateDate HeaderDaily.TypeInvestorTitle  \\\n",
       "0  2022-09-22T00:00:00    0001-01-01T00:00:00          Tipo de Investidores   \n",
       "\n",
       "  HeaderDaily.BuyVolumeTitle HeaderDaily.BuyParticipationTitle  \\\n",
       "0          Vol_Compra_R$ MIL                   Part_Compra (%)   \n",
       "\n",
       "  HeaderDaily.SaleVolumeTitle HeaderDaily.SaleParticipationTitle  \n",
       "0            Vol_Venda_R$ MIL                     Part_Venda (%)  "
      ]
     },
     "execution_count": 8,
     "metadata": {},
     "output_type": "execute_result"
    }
   ],
   "source": [
    "# Aqui não expande o result - mas ajuda para pegar a data\n",
    "import json\n",
    "data = pd.json_normalize(json.loads(r.content))\n",
    "data"
   ]
  },
  {
   "cell_type": "code",
   "execution_count": 20,
   "metadata": {},
   "outputs": [
    {
     "data": {
      "text/plain": [
       "'2022-09-22'"
      ]
     },
     "execution_count": 20,
     "metadata": {},
     "output_type": "execute_result"
    }
   ],
   "source": [
    "data_final = pd.to_datetime(data['HeaderDates.EndDate'][0]).strftime('%Y-%m-%d')\n",
    "data_final"
   ]
  },
  {
   "cell_type": "code",
   "execution_count": 5,
   "metadata": {},
   "outputs": [
    {
     "data": {
      "text/html": [
       "<div>\n",
       "<style scoped>\n",
       "    .dataframe tbody tr th:only-of-type {\n",
       "        vertical-align: middle;\n",
       "    }\n",
       "\n",
       "    .dataframe tbody tr th {\n",
       "        vertical-align: top;\n",
       "    }\n",
       "\n",
       "    .dataframe thead th {\n",
       "        text-align: right;\n",
       "    }\n",
       "</style>\n",
       "<table border=\"1\" class=\"dataframe\">\n",
       "  <thead>\n",
       "    <tr style=\"text-align: right;\">\n",
       "      <th></th>\n",
       "      <th>TypeInvestor</th>\n",
       "      <th>BuyVolume</th>\n",
       "      <th>BuyParticipation</th>\n",
       "      <th>SaleVolume</th>\n",
       "      <th>SaleParticipation</th>\n",
       "    </tr>\n",
       "  </thead>\n",
       "  <tbody>\n",
       "    <tr>\n",
       "      <th>0</th>\n",
       "      <td>Investidores Individuais</td>\n",
       "      <td>64.962.887</td>\n",
       "      <td>7,47%</td>\n",
       "      <td>63.999.172</td>\n",
       "      <td>7,36%</td>\n",
       "    </tr>\n",
       "    <tr>\n",
       "      <th>1</th>\n",
       "      <td>Institucionais</td>\n",
       "      <td>107.690.834</td>\n",
       "      <td>12,39%</td>\n",
       "      <td>111.074.808</td>\n",
       "      <td>12,78%</td>\n",
       "    </tr>\n",
       "    <tr>\n",
       "      <th>2</th>\n",
       "      <td>Investidor Estrangeiro</td>\n",
       "      <td>242.099.653</td>\n",
       "      <td>27,85%</td>\n",
       "      <td>243.068.194</td>\n",
       "      <td>27,96%</td>\n",
       "    </tr>\n",
       "    <tr>\n",
       "      <th>3</th>\n",
       "      <td>Instituições Financeiras</td>\n",
       "      <td>14.399.644</td>\n",
       "      <td>1,66%</td>\n",
       "      <td>14.333.854</td>\n",
       "      <td>1,65%</td>\n",
       "    </tr>\n",
       "    <tr>\n",
       "      <th>4</th>\n",
       "      <td>Outros</td>\n",
       "      <td>5.519.914</td>\n",
       "      <td>0,63%</td>\n",
       "      <td>2.196.906</td>\n",
       "      <td>0,25%</td>\n",
       "    </tr>\n",
       "  </tbody>\n",
       "</table>\n",
       "</div>"
      ],
      "text/plain": [
       "               TypeInvestor    BuyVolume BuyParticipation   SaleVolume  \\\n",
       "0  Investidores Individuais   64.962.887            7,47%   63.999.172   \n",
       "1            Institucionais  107.690.834           12,39%  111.074.808   \n",
       "2    Investidor Estrangeiro  242.099.653           27,85%  243.068.194   \n",
       "3  Instituições Financeiras   14.399.644            1,66%   14.333.854   \n",
       "4                    Outros    5.519.914            0,63%    2.196.906   \n",
       "\n",
       "  SaleParticipation  \n",
       "0             7,36%  \n",
       "1            12,78%  \n",
       "2            27,96%  \n",
       "3             1,65%  \n",
       "4             0,25%  "
      ]
     },
     "execution_count": 5,
     "metadata": {},
     "output_type": "execute_result"
    }
   ],
   "source": [
    "# Expandindo o result com base no link:\n",
    "# # https://towardsdatascience.com/how-to-convert-json-into-a-pandas-dataframe-100b2ae1e0d8\n",
    "\n",
    "\n",
    "final =  pd.json_normalize(json.loads(r.content), record_path =['Result'])\n",
    "final"
   ]
  },
  {
   "cell_type": "code",
   "execution_count": null,
   "metadata": {},
   "outputs": [],
   "source": [
    "final.to_excel('teste.xlsx', index=False)"
   ]
  },
  {
   "cell_type": "markdown",
   "metadata": {},
   "source": [
    "#### Testando com outro dia\n"
   ]
  },
  {
   "cell_type": "markdown",
   "metadata": {},
   "source": []
  }
 ],
 "metadata": {
  "kernelspec": {
   "display_name": "Python 3.10.7 64-bit (microsoft store)",
   "language": "python",
   "name": "python3"
  },
  "language_info": {
   "codemirror_mode": {
    "name": "ipython",
    "version": 3
   },
   "file_extension": ".py",
   "mimetype": "text/x-python",
   "name": "python",
   "nbconvert_exporter": "python",
   "pygments_lexer": "ipython3",
   "version": "3.10.7"
  },
  "orig_nbformat": 4,
  "vscode": {
   "interpreter": {
    "hash": "47afe3266d50fcc6710271c7579ac4ea8d6e4ce73bb58c20121915e044b5cfef"
   }
  }
 },
 "nbformat": 4,
 "nbformat_minor": 2
}
